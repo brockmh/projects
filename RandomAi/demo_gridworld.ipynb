{
 "cells": [
  {
   "cell_type": "markdown",
   "metadata": {
    "id": "1XWNRhcheQgc"
   },
   "source": [
    "### Visualization of an agent playing a Goal-seeking Gridworld task"
   ]
  },
  {
   "cell_type": "markdown",
   "metadata": {},
   "source": []
  },
  {
   "cell_type": "code",
   "execution_count": null,
   "metadata": {
    "id": "0frNv-0jeQgg"
   },
   "outputs": [],
   "source": [
    "%matplotlib inline \n",
    "import numpy as np\n",
    "import matplotlib.pyplot as plt\n",
    "import os\n",
    "from matplotlib import animation, rc\n",
    "rc('animation', html='html5')\n",
    "import random"
   ]
  },
  {
   "cell_type": "code",
   "execution_count": null,
   "metadata": {
    "id": "D3pUbBQheQgh"
   },
   "outputs": [],
   "source": [
    "from gridworld import Environment\n",
    "env =  Environment()\n",
    "s = env.reset()"
   ]
  },
  {
   "cell_type": "code",
   "execution_count": null,
   "metadata": {
    "id": "NzjS5BdreQgj"
   },
   "outputs": [],
   "source": [
    "# Define an agent\n",
    "from myAgent import RandomAgent\n",
    "agent = RandomAgent()\n",
    "trajectory = []"
   ]
  },
  {
   "cell_type": "code",
   "execution_count": null,
   "metadata": {},
   "outputs": [],
   "source": [
    "trajectory.append((env.AGENTS_X, env.AGENTS_Y))\n",
    "steps = 100 # number of steps \n",
    "for j in range(steps):\n",
    "    selected_action = agent.getAction(env)\n",
    "    s, reward, terminal, agentX, agentY = env.step(selected_action)\n",
    "    trajectory.append((agentX, agentY))\n",
    "    if terminal:\n",
    "        break"
   ]
  },
  {
   "cell_type": "code",
   "execution_count": null,
   "metadata": {
    "id": "pXodUCD9eQgn"
   },
   "outputs": [
    {
     "data": {
      "image/png": "[encoded data removed]",
      "text/plain": [
       "<Figure size 640x480 with 1 Axes>"
      ]
     },
     "metadata": {},
     "output_type": "display_data"
    }
   ],
   "source": [
    "fig, ax = env.showGrid()\n",
    "ax.plot(trajectory[0][0], trajectory[0][1], 'ok', markersize=10) #draw the spawn location of the agent\n",
    "\n",
    "xs, ys = zip(*trajectory)\n",
    "ax.set_title(f\"Random\")\n",
    "fig.tight_layout()\n",
    "def update_quiver(i):\n",
    "    x = np.array(xs)[:i]\n",
    "    y = np.array(ys)[:i]\n",
    "    ax.quiver(x[:-1], y[:-1], x[1:]-x[:-1], y[1:]-y[:-1], \n",
    "    scale_units='xy', angles='xy', scale=1.2, color='r', width=0.007, headwidth=3., headlength=4.)\n",
    "anim = animation.FuncAnimation(fig, update_quiver, frames=len(trajectory)+1, interval=500, blit=False, repeat=True)\n",
    "anim.save('plot_grid.gif', writer=animation.PillowWriter(fps=60))\n",
    "plt.show()"
   ]
  }
 ],
 "metadata": {
  "colab": {
   "collapsed_sections": [],
   "name": "Demonstration_Gridworld_Scenario1_Trajectory.ipynb",
   "provenance": []
  },
  "kernelspec": {
   "display_name": "Python 3 (ipykernel)",
   "language": "python",
   "name": "python3"
  },
  "language_info": {
   "codemirror_mode": {
    "name": "ipython",
    "version": 3
   },
   "file_extension": ".py",
   "mimetype": "text/x-python",
   "name": "python",
   "nbconvert_exporter": "python",
   "pygments_lexer": "ipython3",
   "version": "3.10.12"
  },
  "vscode": {
   "interpreter": {
    "hash": "e774977668b7c0ae8309835a5187aa7fbf7669e7d0bb59755bc63e573643edcd"
   }
  }
 },
 "nbformat": 4,
 "nbformat_minor": 4
}
